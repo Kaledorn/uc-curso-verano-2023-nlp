{
 "cells": [
  {
   "attachments": {},
   "cell_type": "markdown",
   "metadata": {},
   "source": [
    "# Spam Detection\n",
    "En este taller, realizaremos un pequeño proyecto completo donde se trabajarán conceptos vistos en cada una de las clases anteriores. Por un lado trabajaremos sobre texto realizando los preprocesados necesarios para finalizar construyendo un modelo de aprendizaje automático para detectar si un mensaje es *spam*.\n",
    "\n",
    "Pistas: [stopwords, punctuation, CountVectorizer]"
   ]
  },
  {
   "cell_type": "code",
   "execution_count": 172,
   "metadata": {},
   "outputs": [],
   "source": [
    "import string\n",
    "import pandas as pd\n",
    "import nltk\n",
    "from nltk.corpus import stopwords\n",
    "from sklearn.feature_extraction.text import CountVectorizer\n",
    "from sklearn.model_selection import train_test_split\n",
    "from sklearn.svm import SVC\n",
    "from sklearn.metrics import classification_report, f1_score, confusion_matrix, ConfusionMatrixDisplay"
   ]
  },
  {
   "cell_type": "code",
   "execution_count": 166,
   "metadata": {},
   "outputs": [],
   "source": [
    "# el dataset se encuentra en la carpeta data\n",
    "data = pd.read_csv(filepath_or_buffer=\"../data/spam.csv\", encoding=\"latin-1\", header=0, usecols=[0, 1], names=[\"label\", \"message\"])"
   ]
  },
  {
   "cell_type": "code",
   "execution_count": 167,
   "metadata": {},
   "outputs": [
    {
     "name": "stdout",
     "output_type": "stream",
     "text": [
      "              precision    recall  f1-score   support\n",
      "\n",
      "         ham       0.98      1.00      0.99       491\n",
      "        spam       0.98      0.88      0.93        67\n",
      "\n",
      "    accuracy                           0.98       558\n",
      "   macro avg       0.98      0.94      0.96       558\n",
      "weighted avg       0.98      0.98      0.98       558\n",
      "\n",
      "f1 score (spam): 0.9291338582677166\n"
     ]
    },
    {
     "data": {
      "image/png": "[encoded data removed]",
      "text/plain": [
       "<Figure size 640x480 with 2 Axes>"
      ]
     },
     "metadata": {},
     "output_type": "display_data"
    }
   ],
   "source": [
    "bow_messages = CountVectorizer(strip_accents=\"ascii\", stop_words=stopwords.words(\"english\")).fit_transform(data[\"message\"])\n",
    "X_train, X_test, y_train, y_test = train_test_split(bow_messages, data[\"label\"], test_size=0.1, random_state=42)\n",
    "predictions = SVC(kernel=\"linear\", class_weight={\"ham\": 7.33, \"spam\": 1}).fit(X_train, y_train).predict(X_test)\n",
    "\n",
    "cm = confusion_matrix(y_test, predictions, labels=['ham','spam'])\n",
    "disp = ConfusionMatrixDisplay(confusion_matrix=cm, display_labels=['ham','spam'])\n",
    "disp.plot()\n",
    "\n",
    "print(classification_report(y_test, predictions))\n",
    "print(f\"f1 score (spam): {f1_score(y_test, predictions, pos_label='spam')}\")\n"
   ]
  },
  {
   "attachments": {},
   "cell_type": "markdown",
   "metadata": {},
   "source": [
    "# Diagnosis"
   ]
  },
  {
   "cell_type": "code",
   "execution_count": 162,
   "metadata": {},
   "outputs": [],
   "source": [
    "fail_ham_predicted = y_test[(predictions != y_test) & ('ham' == predictions)].index.tolist()"
   ]
  },
  {
   "cell_type": "code",
   "execution_count": 163,
   "metadata": {},
   "outputs": [
    {
     "data": {
      "text/html": [
       "<div>\n",
       "<style scoped>\n",
       "    .dataframe tbody tr th:only-of-type {\n",
       "        vertical-align: middle;\n",
       "    }\n",
       "\n",
       "    .dataframe tbody tr th {\n",
       "        vertical-align: top;\n",
       "    }\n",
       "\n",
       "    .dataframe thead th {\n",
       "        text-align: right;\n",
       "    }\n",
       "</style>\n",
       "<table border=\"1\" class=\"dataframe\">\n",
       "  <thead>\n",
       "    <tr style=\"text-align: right;\">\n",
       "      <th></th>\n",
       "      <th>label</th>\n",
       "      <th>message</th>\n",
       "    </tr>\n",
       "  </thead>\n",
       "  <tbody>\n",
       "    <tr>\n",
       "      <th>1044</th>\n",
       "      <td>spam</td>\n",
       "      <td>We know someone who you know that fancies you....</td>\n",
       "    </tr>\n",
       "    <tr>\n",
       "      <th>4071</th>\n",
       "      <td>spam</td>\n",
       "      <td>Loans for any purpose even if you have Bad Cre...</td>\n",
       "    </tr>\n",
       "    <tr>\n",
       "      <th>3979</th>\n",
       "      <td>spam</td>\n",
       "      <td>ringtoneking 84484</td>\n",
       "    </tr>\n",
       "    <tr>\n",
       "      <th>751</th>\n",
       "      <td>spam</td>\n",
       "      <td>You have an important customer service announc...</td>\n",
       "    </tr>\n",
       "    <tr>\n",
       "      <th>712</th>\n",
       "      <td>spam</td>\n",
       "      <td>08714712388 between 10am-7pm Cost 10p</td>\n",
       "    </tr>\n",
       "    <tr>\n",
       "      <th>1268</th>\n",
       "      <td>spam</td>\n",
       "      <td>Can U get 2 phone NOW? I wanna chat 2 set up m...</td>\n",
       "    </tr>\n",
       "    <tr>\n",
       "      <th>730</th>\n",
       "      <td>spam</td>\n",
       "      <td>Email AlertFrom: Jeri StewartSize: 2KBSubject:...</td>\n",
       "    </tr>\n",
       "    <tr>\n",
       "      <th>2662</th>\n",
       "      <td>spam</td>\n",
       "      <td>Hello darling how are you today? I would love ...</td>\n",
       "    </tr>\n",
       "  </tbody>\n",
       "</table>\n",
       "</div>"
      ],
      "text/plain": [
       "     label                                            message\n",
       "1044  spam  We know someone who you know that fancies you....\n",
       "4071  spam  Loans for any purpose even if you have Bad Cre...\n",
       "3979  spam                                 ringtoneking 84484\n",
       "751   spam  You have an important customer service announc...\n",
       "712   spam              08714712388 between 10am-7pm Cost 10p\n",
       "1268  spam  Can U get 2 phone NOW? I wanna chat 2 set up m...\n",
       "730   spam  Email AlertFrom: Jeri StewartSize: 2KBSubject:...\n",
       "2662  spam  Hello darling how are you today? I would love ..."
      ]
     },
     "execution_count": 163,
     "metadata": {},
     "output_type": "execute_result"
    }
   ],
   "source": [
    "data.iloc[fail_ham_predicted]"
   ]
  },
  {
   "attachments": {},
   "cell_type": "markdown",
   "metadata": {},
   "source": [
    "# Elaborado"
   ]
  },
  {
   "cell_type": "code",
   "execution_count": 170,
   "metadata": {},
   "outputs": [],
   "source": [
    "import re\n",
    "def Clean(Text):\n",
    "    sms = re.sub('[^a-zA-Z]', ' ', Text) #Replacing all non-alphabetic characters with a space\n",
    "    sms = sms.lower() #converting to lowecase\n",
    "    sms = sms.split()\n",
    "    sms = ' '.join(sms)\n",
    "    return sms\n",
    "data[\"clean_message\"] = data[\"message\"].apply(Clean)"
   ]
  },
  {
   "cell_type": "code",
   "execution_count": 173,
   "metadata": {},
   "outputs": [],
   "source": [
    "data[\"tokenize_message\"]=data.apply(lambda row: nltk.word_tokenize(row[\"clean_message\"]), axis=1)"
   ]
  },
  {
   "attachments": {},
   "cell_type": "markdown",
   "metadata": {},
   "source": [
    "#"
   ]
  },
  {
   "cell_type": "code",
   "execution_count": 175,
   "metadata": {},
   "outputs": [],
   "source": [
    "def remove_stopwords(text):\n",
    "    stop_words = set(stopwords.words(\"english\"))\n",
    "    filtered_text = [word for word in text if word not in stop_words]\n",
    "    return filtered_text\n",
    "\n",
    "\n",
    "data[\"nostop_message\"] = data[\"tokenize_message\"].apply(remove_stopwords)"
   ]
  },
  {
   "cell_type": "code",
   "execution_count": 176,
   "metadata": {},
   "outputs": [],
   "source": [
    "from nltk.stem import WordNetLemmatizer\n",
    "lemmatizer = WordNetLemmatizer()\n",
    "# lemmatize string\n",
    "def lemmatize_word(text):\n",
    "    #word_tokens = word_tokenize(text)\n",
    "    # provide context i.e. part-of-speech\n",
    "    lemmas = [lemmatizer.lemmatize(word, pos ='v') for word in text]\n",
    "    return lemmas\n",
    "\n",
    "data[\"lemmatize_message\"] = data[\"nostop_message\"].apply(lemmatize_word)"
   ]
  },
  {
   "cell_type": "code",
   "execution_count": 180,
   "metadata": {},
   "outputs": [],
   "source": [
    "data['processed_message'] = data['lemmatize_message'].apply(lambda l: \" \".join(l))"
   ]
  },
  {
   "cell_type": "code",
   "execution_count": 186,
   "metadata": {},
   "outputs": [],
   "source": [
    "from sklearn.ensemble import RandomForestClassifier\n",
    "from sklearn.naive_bayes import MultinomialNB\n",
    "from sklearn.neighbors import KNeighborsClassifier\n",
    "\n",
    "classifiers = [('rf', RandomForestClassifier()),\n",
    "               ('knn',KNeighborsClassifier()), \n",
    "               ('svc',SVC())]\n",
    "for _,cls in classifiers:\n",
    "    cls.fit(X_train, y_train)"
   ]
  },
  {
   "cell_type": "code",
   "execution_count": 189,
   "metadata": {},
   "outputs": [
    {
     "name": "stdout",
     "output_type": "stream",
     "text": [
      "rf/0.976865392720535\n",
      "knn/0.9228153255242504\n",
      "svc/0.9796554301755055\n"
     ]
    }
   ],
   "source": [
    "from sklearn.model_selection import cross_val_score\n",
    "\n",
    "for model_name, model in classifiers:\n",
    "    cv_score = cross_val_score(model, X_train,y_train,scoring=\"accuracy\", cv=10)\n",
    "    print(f'{model_name}/{cv_score.mean()}')"
   ]
  },
  {
   "cell_type": "code",
   "execution_count": 191,
   "metadata": {},
   "outputs": [
    {
     "name": "stdout",
     "output_type": "stream",
     "text": [
      "              precision    recall  f1-score   support\n",
      "\n",
      "         ham       0.99      0.99      0.99       491\n",
      "        spam       0.95      0.90      0.92        67\n",
      "\n",
      "    accuracy                           0.98       558\n",
      "   macro avg       0.97      0.94      0.96       558\n",
      "weighted avg       0.98      0.98      0.98       558\n",
      "\n",
      "f1 score (spam): 0.923076923076923\n"
     ]
    },
    {
     "data": {
      "image/png": "[encoded data removed]",
      "text/plain": [
       "<Figure size 640x480 with 2 Axes>"
      ]
     },
     "metadata": {},
     "output_type": "display_data"
    }
   ],
   "source": [
    "bow_messages = CountVectorizer().fit_transform(data[\"processed_message\"])\n",
    "X_train, X_test, y_train, y_test = train_test_split(bow_messages, data[\"label\"], test_size=0.1, random_state=42)\n",
    "\n",
    "predictions = SVC(kernel=\"linear\", class_weight={\"ham\": 7.33, \"spam\": 1}).fit(X_train, y_train).predict(X_test)\n",
    "\n",
    "cm = confusion_matrix(y_test, predictions, labels=[\"ham\", \"spam\"])\n",
    "disp = ConfusionMatrixDisplay(confusion_matrix=cm, display_labels=[\"ham\", \"spam\"])\n",
    "disp.plot()\n",
    "\n",
    "print(classification_report(y_test, predictions))\n",
    "print(f\"f1 score (spam): {f1_score(y_test, predictions, pos_label='spam')}\")"
   ]
  }
 ],
 "metadata": {
  "kernelspec": {
   "display_name": "venv",
   "language": "python",
   "name": "python3"
  },
  "language_info": {
   "codemirror_mode": {
    "name": "ipython",
    "version": 3
   },
   "file_extension": ".py",
   "mimetype": "text/x-python",
   "name": "python",
   "nbconvert_exporter": "python",
   "pygments_lexer": "ipython3",
   "version": "3.10.0"
  },
  "orig_nbformat": 4
 },
 "nbformat": 4,
 "nbformat_minor": 2
}
