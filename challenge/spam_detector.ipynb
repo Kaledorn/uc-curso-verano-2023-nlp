{
 "cells": [
  {
   "attachments": {},
   "cell_type": "markdown",
   "metadata": {},
   "source": [
    "# Spam Detection\n",
    "En este taller, realizaremos un pequeño proyecto completo donde se trabajarán conceptos vistos en cada una de las clases anteriores. Por un lado trabajaremos sobre texto realizando los preprocesados necesarios para finalizar construyendo un modelo de aprendizaje automático para detectar si un mensaje es *spam*.\n",
    "\n",
    "Pistas: [stopwords, punctuation, CountVectorizer]"
   ]
  },
  {
   "cell_type": "code",
   "execution_count": 172,
   "metadata": {},
   "outputs": [],
   "source": [
    "import ..."
   ]
  },
  {
   "cell_type": "code",
   "execution_count": 166,
   "metadata": {},
   "outputs": [],
   "source": [
    "# el dataset se encuentra en la carpeta data\n",
    "data = pd.read_csv(filepath_or_buffer=\"../data/spam.csv\", encoding=\"latin-1\", header=0, usecols=[0, 1], names=[\"label\", \"message\"])"
   ]
  }
 ],
 "metadata": {
  "kernelspec": {
   "display_name": "venv",
   "language": "python",
   "name": "python3"
  },
  "language_info": {
   "codemirror_mode": {
    "name": "ipython",
    "version": 3
   },
   "file_extension": ".py",
   "mimetype": "text/x-python",
   "name": "python",
   "nbconvert_exporter": "python",
   "pygments_lexer": "ipython3",
   "version": "3.10.0"
  },
  "orig_nbformat": 4
 },
 "nbformat": 4,
 "nbformat_minor": 2
}
