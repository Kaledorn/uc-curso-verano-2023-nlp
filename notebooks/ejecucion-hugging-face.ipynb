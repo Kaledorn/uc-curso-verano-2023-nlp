{
 "cells": [
  {
   "cell_type": "code",
   "execution_count": 7,
   "metadata": {},
   "outputs": [
    {
     "name": "stdout",
     "output_type": "stream",
     "text": [
      "Hola, estoy ahora mismo dando una clase de inteligencia artificial...\n",
      "\n",
      "En el año 2000, el Dr. Michael J. W. Smith, un investigador de la Universidad de California en Berkeley, descubrió que el cerebro humano es capaz de detectar señales de inteligencia artificial.\n",
      "\n",
      "En el 2006, el Dr. John J. W. W. Smith descubrió que el cerebro de los humanos es capaz de detectar y reconocer señales de inteligencia artificial, y que el cerebro humano puede detectar y reconocer señales que se pueden detectar en el cerebro humano.\n",
      "\n",
      "En 2007, el Dr. J. W. J. Smith descubrió que la inteligencia artificial es capaz de detectar la inteligencia artificial en el cerebro humano, y que el humano puede detectar y detectar la inteligencia artificial de manera similar a la inteligencia artificial.\n",
      "En el 2008, el Dr. W. J., el Dr. J., y el Dr. J.. Smith, descubrieron que el cerebro humano tiene una capacidad de detectar y reconocer la inteligencia artificial. El Dr. J. J. Smith y el Dr. W., descubrieron que el cerebro de la inteligencia artificial es capaces de detectar y reconocer las señales de inteligencia artificial en el humano.\n",
      "\n",
      "El Dr. J. Smith, el Dr. Smith y el profesor J. W. R. Smith, descubrieron que la inteligencia artificial puede detectar y reconocer la información de inteligencia artificial en la inteligencia artificial. La inteligencia artificial puede detectar la información de inteligencia de inteligencia artificial en los humanos.\n",
      "\n",
      "El profesor J. W., el Dr. Smith, y el profesor J.. Smith, encontraron que el cerebro humano está capaz de detectar y detectar la información de la inteligencia artificial en la información de inteligencia. El profesor J. W, el Dr. R. Smith y el Profesor J. W. M. Smith, descubrieron el cerebro humano es capaces de detectar la información de los humanos.\n",
      "El profesor J., el Dr., y el profesor J., descubrieron que el cerebelo humano es capaz de reconocer y reconocer la información del cerebro humano. El profesor J., el profesor J., y el profesor R. Smith, encontraron que la inteligencia artificial está capaz de detectar la información del cerebro de los humanos. El profesor J, el profesor J., descubrió que el cerebelo humana es capaz de detectar, reconocer y reconocer la inteligencia de los humanos.El Museo de Arte Contemporáneo de la Ciudad de México (MCAM) es un museo dedicado a la historia de la ciudad de México. Fue fundado en el año\n"
     ]
    }
   ],
   "source": [
    "from transformers import AutoTokenizer, AutoModelForCausalLM\n",
    "\n",
    "tokenizer = AutoTokenizer.from_pretrained(\"datificate/gpt2-small-spanish\")\n",
    "model = AutoModelForCausalLM.from_pretrained(\"datificate/gpt2-small-spanish\")\n",
    "\n",
    "text = \"Hola, estoy ahora mismo dando una clase de inteligencia artificial...\"\n",
    "input_ids = tokenizer.encode(text, return_tensors=\"pt\")\n",
    "out = model.generate(\n",
    "        input_ids, \n",
    "        min_length=100, \n",
    "        max_length=500, \n",
    "        eos_token_id=5, \n",
    "        pad_token_id=1,\n",
    "        top_k=10,\n",
    "        top_p=0.0,\n",
    "        no_repeat_ngram_size=5\n",
    ")\n",
    "generated_text = list(map(tokenizer.decode, out))[0]\n",
    "print(generated_text)\n"
   ]
  },
  {
   "cell_type": "code",
   "execution_count": 1,
   "metadata": {},
   "outputs": [],
   "source": [
    "from dotenv import load_dotenv\n",
    "%load_ext dotenv\n",
    "%dotenv "
   ]
  },
  {
   "cell_type": "code",
   "execution_count": 40,
   "metadata": {},
   "outputs": [
    {
     "name": "stdout",
     "output_type": "stream",
     "text": [
      "[{'generated_text': 'The answer to the universe is not to be found in the universe itself, but in the universe itself'}]\n"
     ]
    }
   ],
   "source": [
    "import json\n",
    "import requests\n",
    "import os\n",
    "\n",
    "API_URL_GPT = \"https://api-inference.huggingface.co/models/gpt2\"\n",
    "headers = {\"Authorization\": f\"Bearer {os.getenv('HUGGINGFACE_API_TOKEN')}\"}\n",
    "\n",
    "\n",
    "def query(payload, model_url):\n",
    "    data = json.dumps(payload)\n",
    "    response = requests.request(\"POST\", model_url, headers=headers, data=data)\n",
    "    return json.loads(response.content.decode(\"utf-8\"))\n",
    "\n",
    "\n",
    "data = query({\"inputs\": \"The answer to the universe is\"}, model_url=API_URL_GPT)\n",
    "print(data)"
   ]
  },
  {
   "cell_type": "code",
   "execution_count": 44,
   "metadata": {},
   "outputs": [
    {
     "name": "stdout",
     "output_type": "stream",
     "text": [
      "[{'translation_text': 'Ответ на вселенную можно найти не в самой вселенной, а в самой вселенной.'}]\n"
     ]
    }
   ],
   "source": [
    "API_URL_TRANS = \"https://api-inference.huggingface.co/models/Helsinki-NLP/opus-mt-en-ru\"\n",
    "headers = {\"Authorization\": f\"Bearer {os.getenv('HUGGINGFACE_API_TOKEN')}\"}\n",
    "\n",
    "data_translated = query(\n",
    "    {\n",
    "        \"inputs\": f\"{data[0]['generated_text']}\",\n",
    "    },\n",
    "    API_URL_TRANS,\n",
    ")\n",
    "\n",
    "print(data_translated)"
   ]
  },
  {
   "cell_type": "code",
   "execution_count": 58,
   "metadata": {},
   "outputs": [
    {
     "name": "stdout",
     "output_type": "stream",
     "text": [
      "[{'translation_text': 'La respuesta al universo no se encuentra en el universo mismo, sino en el universo mismo'}]\n"
     ]
    }
   ],
   "source": [
    "API_URL_TRANS = \"https://api-inference.huggingface.co/models/Helsinki-NLP/opus-mt-en-es\"\n",
    "headers = {\"Authorization\": f\"Bearer {os.getenv('HUGGINGFACE_API_TOKEN')}\"}\n",
    "\n",
    "data_translated = query(\n",
    "    {\n",
    "        \"inputs\": f\"{data[0]['generated_text']}\",\n",
    "    },\n",
    "    API_URL_TRANS,\n",
    ")\n",
    "\n",
    "print(data_translated)"
   ]
  },
  {
   "cell_type": "code",
   "execution_count": null,
   "metadata": {},
   "outputs": [],
   "source": []
  }
 ],
 "metadata": {
  "kernelspec": {
   "display_name": "venv",
   "language": "python",
   "name": "python3"
  },
  "language_info": {
   "codemirror_mode": {
    "name": "ipython",
    "version": 3
   },
   "file_extension": ".py",
   "mimetype": "text/x-python",
   "name": "python",
   "nbconvert_exporter": "python",
   "pygments_lexer": "ipython3",
   "version": "3.10.0"
  },
  "orig_nbformat": 4
 },
 "nbformat": 4,
 "nbformat_minor": 2
}
